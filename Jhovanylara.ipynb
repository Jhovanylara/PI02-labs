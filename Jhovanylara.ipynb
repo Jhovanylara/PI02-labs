{
 "cells": [
  {
   "cell_type": "code",
   "execution_count": 231,
   "metadata": {},
   "outputs": [],
   "source": [
    "import pandas as pd\n",
    "import numpy as np\n",
    "import matplotlib.pyplot as plt\n",
    "import seaborn as sns\n",
    "sns.set()\n",
    "\n",
    "from sklearn.preprocessing import StandardScaler\n",
    "from sklearn.preprocessing import MinMaxScaler\n",
    "\n",
    "from sklearn.model_selection import train_test_split\n",
    "from sklearn.model_selection import cross_val_score\n",
    "from sklearn.model_selection import cross_validate\n",
    "\n",
    "from sklearn.tree import DecisionTreeClassifier\n",
    "from sklearn.metrics import precision_score\n",
    "from sklearn.metrics import recall_score\n",
    "from sklearn.metrics import f1_score\n",
    "from sklearn.metrics import accuracy_score\n",
    "from sklearn.metrics import roc_curve, auc, roc_auc_score\n",
    "from sklearn.decomposition import PCA\n",
    "from sklearn.metrics import classification_report\n",
    "\n",
    "import sklearn.metrics as metrics\n",
    "from sklearn.model_selection import learning_curve"
   ]
  },
  {
   "cell_type": "markdown",
   "metadata": {},
   "source": [
    "### Cargamos los archivos con los que vamos a trabajar."
   ]
  },
  {
   "cell_type": "code",
   "execution_count": 232,
   "metadata": {},
   "outputs": [],
   "source": [
    "#Leemos el archivo de entrenamiento \n",
    "df=pd.read_excel('E-Commerce_train.xlsx')\n"
   ]
  },
  {
   "cell_type": "code",
   "execution_count": 233,
   "metadata": {},
   "outputs": [],
   "source": [
    "#Leemos el archivo de testeo\n",
    "test=pd.read_excel('E-Commerce_test.xlsx')"
   ]
  },
  {
   "cell_type": "markdown",
   "metadata": {},
   "source": [
    "Instanciamos X para los campos a analizar, Y para nuestro campo objetivo"
   ]
  },
  {
   "cell_type": "code",
   "execution_count": 234,
   "metadata": {},
   "outputs": [],
   "source": [
    "X=df\n",
    "X.rename({'Reached.on.Time_Y.N':'target'}, axis=1, inplace=True)\n",
    "y=X['target']\n",
    "X=X.drop(columns=['target'])"
   ]
  },
  {
   "cell_type": "markdown",
   "metadata": {},
   "source": [
    "Borramos las columnas que no aportan a nuestro modelo"
   ]
  },
  {
   "cell_type": "code",
   "execution_count": 235,
   "metadata": {},
   "outputs": [],
   "source": [
    "X=pd.concat([X,test])\n",
    "X=X.drop(columns=['ID','Gender'])"
   ]
  },
  {
   "cell_type": "markdown",
   "metadata": {},
   "source": [
    "## Codificamos para quitar strings"
   ]
  },
  {
   "cell_type": "code",
   "execution_count": 236,
   "metadata": {},
   "outputs": [],
   "source": [
    "from sklearn.preprocessing import LabelEncoder\n",
    "\n",
    "#Shipment (Flight=0, road=1 o ship=2)\n",
    "\n",
    "Shipment=X['Mode_of_Shipment'].values\n",
    "enc=LabelEncoder().fit(Shipment)\n",
    "\n",
    "Shipment=enc.transform(Shipment)\n",
    "Shipment=pd.DataFrame(Shipment)\n",
    "\n",
    "X.drop(columns=\"Mode_of_Shipment\", inplace=True)\n",
    "X.insert(1,'Mode_of_Shipment', Shipment)\n",
    "\n",
    "\n",
    "#Warehouse_block (D=3,F=4,A=0,B=1,C=2)\n",
    "\n",
    "Warehouse_block=X['Warehouse_block'].values\n",
    "enc=LabelEncoder().fit(Warehouse_block)\n",
    "\n",
    "Warehouse_block=enc.transform(Warehouse_block)\n",
    "Warehouse_block=pd.DataFrame(Warehouse_block)\n",
    "\n",
    "X.drop(columns=\"Warehouse_block\", inplace=True)\n",
    "X.insert(0,'Warehouse_block', Warehouse_block)\n",
    "\n",
    "\n",
    "#Product_importance (low=1, medium=2, high=0)\n",
    "\n",
    "Product_importance=X['Product_importance'].values\n",
    "enc=LabelEncoder().fit(Product_importance)\n",
    "\n",
    "Product_importance=enc.transform(Product_importance)\n",
    "Product_importance=pd.DataFrame(Product_importance)\n",
    "\n",
    "X.drop(columns=\"Product_importance\", inplace=True)\n",
    "X.insert(6,'Product_importance', Product_importance)"
   ]
  },
  {
   "cell_type": "code",
   "execution_count": 219,
   "metadata": {},
   "outputs": [
    {
     "data": {
      "text/html": [
       "<div>\n",
       "<style scoped>\n",
       "    .dataframe tbody tr th:only-of-type {\n",
       "        vertical-align: middle;\n",
       "    }\n",
       "\n",
       "    .dataframe tbody tr th {\n",
       "        vertical-align: top;\n",
       "    }\n",
       "\n",
       "    .dataframe thead th {\n",
       "        text-align: right;\n",
       "    }\n",
       "</style>\n",
       "<table border=\"1\" class=\"dataframe\">\n",
       "  <thead>\n",
       "    <tr style=\"text-align: right;\">\n",
       "      <th></th>\n",
       "      <th>Warehouse_block</th>\n",
       "      <th>Mode_of_Shipment</th>\n",
       "      <th>Customer_care_calls</th>\n",
       "      <th>Customer_rating</th>\n",
       "      <th>Cost_of_the_Product</th>\n",
       "      <th>Prior_purchases</th>\n",
       "      <th>Product_importance</th>\n",
       "      <th>Discount_offered</th>\n",
       "      <th>Weight_in_gms</th>\n",
       "    </tr>\n",
       "  </thead>\n",
       "  <tbody>\n",
       "    <tr>\n",
       "      <th>0</th>\n",
       "      <td>3</td>\n",
       "      <td>0</td>\n",
       "      <td>4</td>\n",
       "      <td>2</td>\n",
       "      <td>177</td>\n",
       "      <td>3</td>\n",
       "      <td>1</td>\n",
       "      <td>44</td>\n",
       "      <td>1233</td>\n",
       "    </tr>\n",
       "    <tr>\n",
       "      <th>1</th>\n",
       "      <td>4</td>\n",
       "      <td>0</td>\n",
       "      <td>4</td>\n",
       "      <td>5</td>\n",
       "      <td>216</td>\n",
       "      <td>2</td>\n",
       "      <td>1</td>\n",
       "      <td>59</td>\n",
       "      <td>3088</td>\n",
       "    </tr>\n",
       "    <tr>\n",
       "      <th>2</th>\n",
       "      <td>0</td>\n",
       "      <td>0</td>\n",
       "      <td>2</td>\n",
       "      <td>2</td>\n",
       "      <td>183</td>\n",
       "      <td>4</td>\n",
       "      <td>1</td>\n",
       "      <td>48</td>\n",
       "      <td>3374</td>\n",
       "    </tr>\n",
       "    <tr>\n",
       "      <th>3</th>\n",
       "      <td>1</td>\n",
       "      <td>0</td>\n",
       "      <td>3</td>\n",
       "      <td>3</td>\n",
       "      <td>176</td>\n",
       "      <td>4</td>\n",
       "      <td>2</td>\n",
       "      <td>10</td>\n",
       "      <td>1177</td>\n",
       "    </tr>\n",
       "    <tr>\n",
       "      <th>4</th>\n",
       "      <td>2</td>\n",
       "      <td>0</td>\n",
       "      <td>2</td>\n",
       "      <td>2</td>\n",
       "      <td>184</td>\n",
       "      <td>3</td>\n",
       "      <td>2</td>\n",
       "      <td>46</td>\n",
       "      <td>2484</td>\n",
       "    </tr>\n",
       "    <tr>\n",
       "      <th>...</th>\n",
       "      <td>...</td>\n",
       "      <td>...</td>\n",
       "      <td>...</td>\n",
       "      <td>...</td>\n",
       "      <td>...</td>\n",
       "      <td>...</td>\n",
       "      <td>...</td>\n",
       "      <td>...</td>\n",
       "      <td>...</td>\n",
       "    </tr>\n",
       "    <tr>\n",
       "      <th>1995</th>\n",
       "      <td>0</td>\n",
       "      <td>2</td>\n",
       "      <td>4</td>\n",
       "      <td>1</td>\n",
       "      <td>252</td>\n",
       "      <td>5</td>\n",
       "      <td>2</td>\n",
       "      <td>1</td>\n",
       "      <td>1538</td>\n",
       "    </tr>\n",
       "    <tr>\n",
       "      <th>1996</th>\n",
       "      <td>1</td>\n",
       "      <td>2</td>\n",
       "      <td>4</td>\n",
       "      <td>1</td>\n",
       "      <td>232</td>\n",
       "      <td>5</td>\n",
       "      <td>2</td>\n",
       "      <td>6</td>\n",
       "      <td>1247</td>\n",
       "    </tr>\n",
       "    <tr>\n",
       "      <th>1997</th>\n",
       "      <td>2</td>\n",
       "      <td>2</td>\n",
       "      <td>5</td>\n",
       "      <td>4</td>\n",
       "      <td>242</td>\n",
       "      <td>5</td>\n",
       "      <td>1</td>\n",
       "      <td>4</td>\n",
       "      <td>1155</td>\n",
       "    </tr>\n",
       "    <tr>\n",
       "      <th>1998</th>\n",
       "      <td>4</td>\n",
       "      <td>2</td>\n",
       "      <td>5</td>\n",
       "      <td>2</td>\n",
       "      <td>223</td>\n",
       "      <td>6</td>\n",
       "      <td>2</td>\n",
       "      <td>2</td>\n",
       "      <td>1210</td>\n",
       "    </tr>\n",
       "    <tr>\n",
       "      <th>1999</th>\n",
       "      <td>3</td>\n",
       "      <td>2</td>\n",
       "      <td>2</td>\n",
       "      <td>5</td>\n",
       "      <td>155</td>\n",
       "      <td>5</td>\n",
       "      <td>1</td>\n",
       "      <td>6</td>\n",
       "      <td>1639</td>\n",
       "    </tr>\n",
       "  </tbody>\n",
       "</table>\n",
       "<p>10999 rows × 9 columns</p>\n",
       "</div>"
      ],
      "text/plain": [
       "      Warehouse_block  Mode_of_Shipment  Customer_care_calls  Customer_rating  \\\n",
       "0                   3                 0                    4                2   \n",
       "1                   4                 0                    4                5   \n",
       "2                   0                 0                    2                2   \n",
       "3                   1                 0                    3                3   \n",
       "4                   2                 0                    2                2   \n",
       "...               ...               ...                  ...              ...   \n",
       "1995                0                 2                    4                1   \n",
       "1996                1                 2                    4                1   \n",
       "1997                2                 2                    5                4   \n",
       "1998                4                 2                    5                2   \n",
       "1999                3                 2                    2                5   \n",
       "\n",
       "      Cost_of_the_Product  Prior_purchases  Product_importance  \\\n",
       "0                     177                3                   1   \n",
       "1                     216                2                   1   \n",
       "2                     183                4                   1   \n",
       "3                     176                4                   2   \n",
       "4                     184                3                   2   \n",
       "...                   ...              ...                 ...   \n",
       "1995                  252                5                   2   \n",
       "1996                  232                5                   2   \n",
       "1997                  242                5                   1   \n",
       "1998                  223                6                   2   \n",
       "1999                  155                5                   1   \n",
       "\n",
       "      Discount_offered  Weight_in_gms  \n",
       "0                   44           1233  \n",
       "1                   59           3088  \n",
       "2                   48           3374  \n",
       "3                   10           1177  \n",
       "4                   46           2484  \n",
       "...                ...            ...  \n",
       "1995                 1           1538  \n",
       "1996                 6           1247  \n",
       "1997                 4           1155  \n",
       "1998                 2           1210  \n",
       "1999                 6           1639  \n",
       "\n",
       "[10999 rows x 9 columns]"
      ]
     },
     "execution_count": 219,
     "metadata": {},
     "output_type": "execute_result"
    }
   ],
   "source": [
    "X"
   ]
  },
  {
   "cell_type": "markdown",
   "metadata": {},
   "source": [
    "### Escalamos (normalizamos)."
   ]
  },
  {
   "cell_type": "markdown",
   "metadata": {},
   "source": [
    "`Sólo vamos a tomar los campos que tienen valores mas altos.`"
   ]
  },
  {
   "cell_type": "code",
   "execution_count": 237,
   "metadata": {},
   "outputs": [],
   "source": [
    "#Solo vamos a escalar 3 campos.\n",
    "columnas_testeo = ['Cost_of_the_Product','Discount_offered', 'Weight_in_gms']\n",
    "X_ajustar = X[columnas_testeo]"
   ]
  },
  {
   "cell_type": "code",
   "execution_count": 238,
   "metadata": {},
   "outputs": [],
   "source": [
    "# Normalizamos con MinMaxScaler\n",
    "X_scaled = MinMaxScaler().fit_transform(X_ajustar) # Scale the features\n",
    "\n",
    "X_scaled=pd.DataFrame(X_scaled)\n",
    "\n",
    "X_scaled.rename({0:'Cost_of_the_Product',1:'Discount_offered',2:'Weight_in_gms'}, axis=1, inplace=True)"
   ]
  },
  {
   "cell_type": "markdown",
   "metadata": {},
   "source": [
    "Luego sustituimos los campos normalizados, con en nuestro df"
   ]
  },
  {
   "cell_type": "code",
   "execution_count": 239,
   "metadata": {},
   "outputs": [],
   "source": [
    "#Concatenamos las celdas normalizadas con el resto del df\n",
    "X1=X_scaled\n",
    "X1=X1.reset_index(drop=True)\n",
    "X2=X.drop(columns=['Cost_of_the_Product','Discount_offered', 'Weight_in_gms'])\n",
    "X2=X2.reset_index(drop=True)\n",
    "\n",
    "\n",
    "X=pd.concat([X1,X2],axis=1)"
   ]
  },
  {
   "cell_type": "code",
   "execution_count": 240,
   "metadata": {},
   "outputs": [
    {
     "data": {
      "text/html": [
       "<div>\n",
       "<style scoped>\n",
       "    .dataframe tbody tr th:only-of-type {\n",
       "        vertical-align: middle;\n",
       "    }\n",
       "\n",
       "    .dataframe tbody tr th {\n",
       "        vertical-align: top;\n",
       "    }\n",
       "\n",
       "    .dataframe thead th {\n",
       "        text-align: right;\n",
       "    }\n",
       "</style>\n",
       "<table border=\"1\" class=\"dataframe\">\n",
       "  <thead>\n",
       "    <tr style=\"text-align: right;\">\n",
       "      <th></th>\n",
       "      <th>Cost_of_the_Product</th>\n",
       "      <th>Discount_offered</th>\n",
       "      <th>Weight_in_gms</th>\n",
       "      <th>Warehouse_block</th>\n",
       "      <th>Mode_of_Shipment</th>\n",
       "      <th>Customer_care_calls</th>\n",
       "      <th>Customer_rating</th>\n",
       "      <th>Prior_purchases</th>\n",
       "      <th>Product_importance</th>\n",
       "    </tr>\n",
       "  </thead>\n",
       "  <tbody>\n",
       "    <tr>\n",
       "      <th>0</th>\n",
       "      <td>0.378505</td>\n",
       "      <td>0.671875</td>\n",
       "      <td>0.033893</td>\n",
       "      <td>3</td>\n",
       "      <td>0</td>\n",
       "      <td>4</td>\n",
       "      <td>2</td>\n",
       "      <td>3</td>\n",
       "      <td>1</td>\n",
       "    </tr>\n",
       "    <tr>\n",
       "      <th>1</th>\n",
       "      <td>0.560748</td>\n",
       "      <td>0.906250</td>\n",
       "      <td>0.304894</td>\n",
       "      <td>4</td>\n",
       "      <td>0</td>\n",
       "      <td>4</td>\n",
       "      <td>5</td>\n",
       "      <td>2</td>\n",
       "      <td>1</td>\n",
       "    </tr>\n",
       "    <tr>\n",
       "      <th>2</th>\n",
       "      <td>0.406542</td>\n",
       "      <td>0.734375</td>\n",
       "      <td>0.346676</td>\n",
       "      <td>0</td>\n",
       "      <td>0</td>\n",
       "      <td>2</td>\n",
       "      <td>2</td>\n",
       "      <td>4</td>\n",
       "      <td>1</td>\n",
       "    </tr>\n",
       "    <tr>\n",
       "      <th>3</th>\n",
       "      <td>0.373832</td>\n",
       "      <td>0.140625</td>\n",
       "      <td>0.025712</td>\n",
       "      <td>1</td>\n",
       "      <td>0</td>\n",
       "      <td>3</td>\n",
       "      <td>3</td>\n",
       "      <td>4</td>\n",
       "      <td>2</td>\n",
       "    </tr>\n",
       "    <tr>\n",
       "      <th>4</th>\n",
       "      <td>0.411215</td>\n",
       "      <td>0.703125</td>\n",
       "      <td>0.216654</td>\n",
       "      <td>2</td>\n",
       "      <td>0</td>\n",
       "      <td>2</td>\n",
       "      <td>2</td>\n",
       "      <td>3</td>\n",
       "      <td>2</td>\n",
       "    </tr>\n",
       "    <tr>\n",
       "      <th>...</th>\n",
       "      <td>...</td>\n",
       "      <td>...</td>\n",
       "      <td>...</td>\n",
       "      <td>...</td>\n",
       "      <td>...</td>\n",
       "      <td>...</td>\n",
       "      <td>...</td>\n",
       "      <td>...</td>\n",
       "      <td>...</td>\n",
       "    </tr>\n",
       "    <tr>\n",
       "      <th>10994</th>\n",
       "      <td>0.728972</td>\n",
       "      <td>0.000000</td>\n",
       "      <td>0.078451</td>\n",
       "      <td>0</td>\n",
       "      <td>2</td>\n",
       "      <td>4</td>\n",
       "      <td>1</td>\n",
       "      <td>5</td>\n",
       "      <td>2</td>\n",
       "    </tr>\n",
       "    <tr>\n",
       "      <th>10995</th>\n",
       "      <td>0.635514</td>\n",
       "      <td>0.078125</td>\n",
       "      <td>0.035939</td>\n",
       "      <td>1</td>\n",
       "      <td>2</td>\n",
       "      <td>4</td>\n",
       "      <td>1</td>\n",
       "      <td>5</td>\n",
       "      <td>2</td>\n",
       "    </tr>\n",
       "    <tr>\n",
       "      <th>10996</th>\n",
       "      <td>0.682243</td>\n",
       "      <td>0.046875</td>\n",
       "      <td>0.022498</td>\n",
       "      <td>2</td>\n",
       "      <td>2</td>\n",
       "      <td>5</td>\n",
       "      <td>4</td>\n",
       "      <td>5</td>\n",
       "      <td>1</td>\n",
       "    </tr>\n",
       "    <tr>\n",
       "      <th>10997</th>\n",
       "      <td>0.593458</td>\n",
       "      <td>0.015625</td>\n",
       "      <td>0.030533</td>\n",
       "      <td>4</td>\n",
       "      <td>2</td>\n",
       "      <td>5</td>\n",
       "      <td>2</td>\n",
       "      <td>6</td>\n",
       "      <td>2</td>\n",
       "    </tr>\n",
       "    <tr>\n",
       "      <th>10998</th>\n",
       "      <td>0.275701</td>\n",
       "      <td>0.078125</td>\n",
       "      <td>0.093207</td>\n",
       "      <td>3</td>\n",
       "      <td>2</td>\n",
       "      <td>2</td>\n",
       "      <td>5</td>\n",
       "      <td>5</td>\n",
       "      <td>1</td>\n",
       "    </tr>\n",
       "  </tbody>\n",
       "</table>\n",
       "<p>10999 rows × 9 columns</p>\n",
       "</div>"
      ],
      "text/plain": [
       "       Cost_of_the_Product  Discount_offered  Weight_in_gms  Warehouse_block  \\\n",
       "0                 0.378505          0.671875       0.033893                3   \n",
       "1                 0.560748          0.906250       0.304894                4   \n",
       "2                 0.406542          0.734375       0.346676                0   \n",
       "3                 0.373832          0.140625       0.025712                1   \n",
       "4                 0.411215          0.703125       0.216654                2   \n",
       "...                    ...               ...            ...              ...   \n",
       "10994             0.728972          0.000000       0.078451                0   \n",
       "10995             0.635514          0.078125       0.035939                1   \n",
       "10996             0.682243          0.046875       0.022498                2   \n",
       "10997             0.593458          0.015625       0.030533                4   \n",
       "10998             0.275701          0.078125       0.093207                3   \n",
       "\n",
       "       Mode_of_Shipment  Customer_care_calls  Customer_rating  \\\n",
       "0                     0                    4                2   \n",
       "1                     0                    4                5   \n",
       "2                     0                    2                2   \n",
       "3                     0                    3                3   \n",
       "4                     0                    2                2   \n",
       "...                 ...                  ...              ...   \n",
       "10994                 2                    4                1   \n",
       "10995                 2                    4                1   \n",
       "10996                 2                    5                4   \n",
       "10997                 2                    5                2   \n",
       "10998                 2                    2                5   \n",
       "\n",
       "       Prior_purchases  Product_importance  \n",
       "0                    3                   1  \n",
       "1                    2                   1  \n",
       "2                    4                   1  \n",
       "3                    4                   2  \n",
       "4                    3                   2  \n",
       "...                ...                 ...  \n",
       "10994                5                   2  \n",
       "10995                5                   2  \n",
       "10996                5                   1  \n",
       "10997                6                   2  \n",
       "10998                5                   1  \n",
       "\n",
       "[10999 rows x 9 columns]"
      ]
     },
     "execution_count": 240,
     "metadata": {},
     "output_type": "execute_result"
    }
   ],
   "source": [
    "X"
   ]
  },
  {
   "cell_type": "markdown",
   "metadata": {},
   "source": [
    "### Separamos en el archivo de entrenamiento y testeo original"
   ]
  },
  {
   "cell_type": "markdown",
   "metadata": {},
   "source": [
    "`Debemos cuidar que queden del mismo tamaño original`"
   ]
  },
  {
   "cell_type": "code",
   "execution_count": 241,
   "metadata": {},
   "outputs": [],
   "source": [
    "test=X.iloc[8999:,:]\n",
    "X=X.iloc[:8999,:]\n"
   ]
  },
  {
   "cell_type": "code",
   "execution_count": 242,
   "metadata": {},
   "outputs": [
    {
     "data": {
      "text/plain": [
       "(8999, 9)"
      ]
     },
     "execution_count": 242,
     "metadata": {},
     "output_type": "execute_result"
    }
   ],
   "source": [
    "X.shape"
   ]
  },
  {
   "cell_type": "code",
   "execution_count": 243,
   "metadata": {},
   "outputs": [
    {
     "data": {
      "text/plain": [
       "(8999,)"
      ]
     },
     "execution_count": 243,
     "metadata": {},
     "output_type": "execute_result"
    }
   ],
   "source": [
    "y.shape"
   ]
  },
  {
   "cell_type": "code",
   "execution_count": 244,
   "metadata": {},
   "outputs": [
    {
     "data": {
      "text/plain": [
       "(2000, 9)"
      ]
     },
     "execution_count": 244,
     "metadata": {},
     "output_type": "execute_result"
    }
   ],
   "source": [
    "test.shape"
   ]
  },
  {
   "cell_type": "markdown",
   "metadata": {},
   "source": [
    "# Finalmente hacemos un balanceo con over sampling"
   ]
  },
  {
   "cell_type": "code",
   "execution_count": 245,
   "metadata": {},
   "outputs": [
    {
     "name": "stdout",
     "output_type": "stream",
     "text": [
      "After OverSampling, the shape of train_X: (11438, 9)\n",
      "After OverSampling, the shape of train_y: (11438,) \n",
      "\n",
      "After OverSampling, counts of label '1': 5719\n",
      "After OverSampling, counts of label '0': 5719\n"
     ]
    }
   ],
   "source": [
    "#Esto es para over_sampling\n",
    "\n",
    "from imblearn import over_sampling\n",
    "from imblearn.over_sampling import SMOTE\n",
    "sm = SMOTE(random_state=2)\n",
    "X_train_res, y_train_res = sm.fit_resample(X, y.ravel())\n",
    "print('After OverSampling, the shape of train_X: {}'.format(X_train_res.shape)) \n",
    "print('After OverSampling, the shape of train_y: {} \\n'.format(y_train_res.shape)) \n",
    "  \n",
    "print(\"After OverSampling, counts of label '1': {}\".format(sum(y_train_res == 1))) \n",
    "print(\"After OverSampling, counts of label '0': {}\".format(sum(y_train_res == 0)))\n"
   ]
  },
  {
   "cell_type": "markdown",
   "metadata": {},
   "source": [
    "### `Usemos Random Forest`"
   ]
  },
  {
   "cell_type": "code",
   "execution_count": 29,
   "metadata": {},
   "outputs": [],
   "source": [
    "# columnas_testeo = ['Discount_offered',  'Weight_in_gms']\n",
    "# test1 = test[columnas_testeo]"
   ]
  },
  {
   "cell_type": "code",
   "execution_count": 246,
   "metadata": {},
   "outputs": [],
   "source": [
    "from sklearn.ensemble import RandomForestClassifier\n",
    "\n",
    "# Instanciamos el modelo\n",
    "\n",
    "clf = RandomForestClassifier(n_estimators=50, max_features=\"log2\", n_jobs=-1, oob_score = True, random_state = 100)\n",
    "clf.fit(X_train_res,y_train_res)\n",
    "\n",
    "# Evaluamos\n",
    "\n",
    "y_train_pred = clf.predict(X_train_res)\n",
    "y_test_pred = clf.predict(test)\n",
    "\n",
    "\n"
   ]
  },
  {
   "cell_type": "code",
   "execution_count": 247,
   "metadata": {},
   "outputs": [
    {
     "name": "stdout",
     "output_type": "stream",
     "text": [
      "1.0\n"
     ]
    }
   ],
   "source": [
    "print(metrics.accuracy_score(y_train_res, y_train_pred))"
   ]
  },
  {
   "cell_type": "code",
   "execution_count": 248,
   "metadata": {},
   "outputs": [],
   "source": [
    "prueba=pd.DataFrame(y_test_pred)\n",
    "prueba.rename({0:'pred'}, axis=1, inplace=True)\n",
    "prueba.to_csv('Jhovanylara.csv')"
   ]
  },
  {
   "cell_type": "code",
   "execution_count": 249,
   "metadata": {},
   "outputs": [
    {
     "data": {
      "text/plain": [
       "(2000, 1)"
      ]
     },
     "execution_count": 249,
     "metadata": {},
     "output_type": "execute_result"
    }
   ],
   "source": [
    "prueba.shape"
   ]
  }
 ],
 "metadata": {
  "kernelspec": {
   "display_name": "Python 3.10.5 64-bit",
   "language": "python",
   "name": "python3"
  },
  "language_info": {
   "codemirror_mode": {
    "name": "ipython",
    "version": 3
   },
   "file_extension": ".py",
   "mimetype": "text/x-python",
   "name": "python",
   "nbconvert_exporter": "python",
   "pygments_lexer": "ipython3",
   "version": "3.10.5"
  },
  "orig_nbformat": 4,
  "vscode": {
   "interpreter": {
    "hash": "831930c436e26f7725c7eb4f61edc3580d69b3d71d42ec6e6c602713c246326c"
   }
  }
 },
 "nbformat": 4,
 "nbformat_minor": 2
}
